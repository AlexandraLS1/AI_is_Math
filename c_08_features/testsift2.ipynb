{
 "cells": [
  {
   "cell_type": "code",
   "execution_count": 1,
   "metadata": {},
   "outputs": [
    {
     "data": {
      "text/plain": [
       "<Figure size 640x480 with 1 Axes>"
      ]
     },
     "metadata": {},
     "output_type": "display_data"
    },
    {
     "data": {
      "text/plain": [
       "<Figure size 640x480 with 1 Axes>"
      ]
     },
     "metadata": {},
     "output_type": "display_data"
    },
    {
     "name": "stdout",
     "output_type": "stream",
     "text": [
      "[[ 7.66706111e-01  3.55050018e-02  4.46916059e+02]\n",
      " [-1.34892257e-01  9.11001592e-01  7.62346833e+01]\n",
      " [-2.09414971e-04 -3.40133445e-05  1.00000000e+00]]\n"
     ]
    },
    {
     "data": {
      "text/plain": [
       "<Figure size 640x480 with 1 Axes>"
      ]
     },
     "metadata": {},
     "output_type": "display_data"
    }
   ],
   "source": [
    "# pip install -U opencv-contrib-python==3.4.0.12\n",
    "\n",
    "\n",
    "#https://towardsdatascience.com/image-stitching-using-opencv-817779c86a83\n",
    "\n",
    "import cv2\n",
    "import numpy as np\n",
    "import matplotlib.pyplot as plt\n",
    "from random import randrange\n",
    "\n",
    "rgb1 = cv2.cvtColor(cv2.imread(\"right.JPG\"),cv2.COLOR_BGR2RGB)\n",
    "gray1 = cv2.cvtColor(rgb1,cv2.COLOR_RGB2GRAY)\n",
    "rgb2 = cv2.cvtColor(cv2.imread(\"left.JPG\"),cv2.COLOR_BGR2RGB)\n",
    "gray2 = cv2.cvtColor(rgb2,cv2.COLOR_RGB2GRAY)\n",
    "\n",
    "sift = cv2.xfeatures2d.SIFT_create()\n",
    "# find the keypoints and descriptors with SIFT\n",
    "kp1, des1 = sift.detectAndCompute(gray1,None)\n",
    "kp2, des2 = sift.detectAndCompute(gray2,None)\n",
    "\n",
    "bf = cv2.BFMatcher()\n",
    "matches = bf.knnMatch(des1,des2, k=2)\n",
    "\n",
    "# Apply ratio test\n",
    "good = []\n",
    "for m in matches:\n",
    "    if m[0].distance < 0.5*m[1].distance:\n",
    "        good.append(m)\n",
    "matches = np.asarray(good)\n",
    "\n",
    "# show only 30 matches\n",
    "im_matches = cv2.drawMatchesKnn(rgb1,kp1,rgb2,kp2,good[0:30],None,flags=cv2.DrawMatchesFlags_NOT_DRAW_SINGLE_POINTS)\n",
    "plt.imshow(im_matches)\n",
    "plt.show()\n",
    "\n",
    "test=cv2.drawKeypoints(rgb1,kp1,None,flags=cv2.DRAW_MATCHES_FLAGS_DRAW_RICH_KEYPOINTS)\n",
    "plt.imshow(test)\n",
    "plt.show()\n",
    "\n",
    "\n",
    "src = np.float32([ kp1[m.queryIdx].pt for m in matches[:,0] ]).reshape(-1,1,2)\n",
    "dst = np.float32([ kp2[m.trainIdx].pt for m in matches[:,0] ]).reshape(-1,1,2)\n",
    "H, masked = cv2.findHomography(src, dst, cv2.RANSAC, 5.0)\n",
    "\n",
    "# dst = cv2.warpPerspective(rgb1,H,(rgb2.shape[1] + rgb1.shape[1], rgb1.shape[0]+rgb2.shape[0]))\n",
    "# dst[0:rgb2.shape[0], 0:rgb2.shape[1]] = rgb2\n",
    "\n",
    "print(H)\n",
    "\n",
    "# plt.figure()\n",
    "# plt.imshow(dst)\n",
    "# plt.show()\n",
    "\n",
    "def warpTwoImages(img1, img2, H):\n",
    "    '''warp img2 to img1 with homograph H\n",
    "    from: https://stackoverflow.com/questions/13063201/how-to-show-the-whole-image-when-using-opencv-warpperspective\n",
    "    '''\n",
    "    h1,w1 = img1.shape[:2]\n",
    "    h2,w2 = img2.shape[:2]\n",
    "    pts1 = np.float32([[0,0],[0,h1],[w1,h1],[w1,0]]).reshape(-1,1,2)\n",
    "    pts2 = np.float32([[0,0],[0,h2],[w2,h2],[w2,0]]).reshape(-1,1,2)\n",
    "    pts2_ = cv2.perspectiveTransform(pts2, H)\n",
    "    pts = np.concatenate((pts1, pts2_), axis=0)\n",
    "    [xmin, ymin] = np.int32(pts.min(axis=0).ravel() - 0.5)\n",
    "    [xmax, ymax] = np.int32(pts.max(axis=0).ravel() + 0.5)\n",
    "    t = [-xmin,-ymin]\n",
    "    Ht = np.array([[1,0,t[0]],[0,1,t[1]],[0,0,1]]) # translate\n",
    "\n",
    "    result = cv2.warpPerspective(img2, Ht@H, (xmax-xmin, ymax-ymin))\n",
    "    result[t[1]:h1+t[1],t[0]:w1+t[0]] = img1\n",
    "    return result\n",
    "\n",
    "result = warpTwoImages(rgb2, rgb1, H)\n",
    "\n",
    "plt.figure()\n",
    "plt.imshow(result)\n",
    "plt.show()"
   ]
  }
 ],
 "metadata": {
  "language_info": {
   "codemirror_mode": {
    "name": "ipython",
    "version": 3
   },
   "file_extension": ".py",
   "mimetype": "text/x-python",
   "name": "python",
   "nbconvert_exporter": "python",
   "pygments_lexer": "ipython3",
   "version": "3.6.8"
  }
 },
 "nbformat": 4,
 "nbformat_minor": 2
}
