{
  "cells": [
    {
      "cell_type": "code",
      "metadata": {},
      "source": [
        "import matplotlib.pyplot as plt \n",
        "import cv2\n",
        "\n",
        "# def log(s):\n",
        "#     half_ker_sz = 3*s # should be bigger than sqrt(2)*s\n",
        "#     X,Y = np.meshgrid(np.arange(-half_ker_sz,half_ker_sz),np.arange(-half_ker_sz,half_ker_sz))\n",
        "    \n",
        "#     coeff = 1/(np.pi*s**4)\n",
        "#     alpha =(X**2+Y**2)/(2*s**2)\n",
        "#     brackets = alpha -1\n",
        "#     exp = np.exp(-alpha)\n",
        "\n",
        "#     log = coeff*brackets*exp\n",
        "\n",
        "#     return log\n",
        "\n",
        "# def step(r):\n",
        "#     # step = np.concatenate((np.zeros((2*sz,)),np.ones((sz,)),np.zeros((2*sz,))))\n",
        "#     im_sz = 200\n",
        "#     im = np.zeros((im_sz+1,im_sz+1,3))\n",
        "#     im = cv2.circle(im, (int(im_sz/2), int(im_sz/2)), r, (255, 255, 255), -1)\n",
        "#     return im\n",
        "\n",
        "# plt.imshow(step(30))\n",
        "# plt.show()\n",
        "    \n",
        "# plt.imshow(log(30))\n",
        "# plt.show()\n",
        "\n",
        "def log(s,x):\n",
        "    # half_ker_sz = 3*s # should be bigger than sqrt(2)*s\n",
        "    \n",
        "    coeff = 1/(np.sqrt(2*np.pi)*s**3)\n",
        "    alpha =(x**2)/(s**2)\n",
        "    brackets = alpha -1\n",
        "    exp = np.exp(-0.5*alpha)\n",
        "\n",
        "    log = coeff*brackets*exp\n",
        "\n",
        "    return log\n",
        "\n",
        "sz = 100\n",
        "step = np.concatenate((np.zeros((2*sz,)),np.ones((sz,)),np.zeros((2*sz,))))\n",
        "\n",
        "# dx = 0.1\n",
        "# x = np.arange(-half_ker_sz,half_ker_sz)\n",
        "\n",
        "x = np.linspace(-100,100,)\n",
        "#http://www.cim.mcgill.ca/~langer/558/2009/lecture11.pdf"
      ],
      "outputs": [],
      "execution_count": null
    }
  ],
  "metadata": {
    "language_info": {
      "codemirror_mode": {
        "name": "ipython",
        "version": 3
      },
      "file_extension": ".py",
      "mimetype": "text/x-python",
      "name": "python",
      "nbconvert_exporter": "python",
      "pygments_lexer": "ipython3",
      "version": "3"
    }
  },
  "nbformat": 4,
  "nbformat_minor": 2
}