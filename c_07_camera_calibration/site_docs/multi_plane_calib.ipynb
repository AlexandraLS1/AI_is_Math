{
  "cells": [
    {
      "cell_type": "markdown",
      "metadata": {},
      "source": [
        "# Hough transform\n",
        "[![Open In Colab](https://colab.research.google.com/assets/colab-badge.svg)](https://colab.research.google.com/github/YoniChechik/AI_is_Math/blob/master/c_07_camera_calibration/site_docs/multi_plane_calib.ipynb)\n",
        "\n"
      ]
    },
    {
      "cell_type": "markdown",
      "metadata": {},
      "source": [
        "camera calibration for distorted images with chess board samples\n",
        "reads distorted images, calculates the calibration and write undistorted images\n",
        "\n",
        "original code is from opencv tutorials:\n",
        "https://github.com/opencv/opencv/blob/master/samples/python/calibrate.py\n",
        "https://opencv-python-tutroals.readthedocs.io/en/latest/py_tutorials/py_calib3d/py_pose/py_pose.html\n",
        "\n",
        "read more about the functions here:\n",
        "https://docs.opencv2.org/2.4/modules/calib3d/doc/camera_calibration_and_3d_reconstruction.html\n",
        "\n",
        "a reference calibration plane for printing can be copied from here:\n",
        "https://stackoverflow.com/questions/25233198/opencv-2-4-9-for-python-cannot-find-chessboard-camera-calibration-tutorial \n",
        "\n"
      ]
    },
    {
      "cell_type": "code",
      "metadata": {},
      "source": [
        "# to run in google colab\n",
        "import sys\n",
        "if 'google.colab' in sys.modules:\n",
        "    import subprocess \n",
        "    subprocess.call('apt-get install subversion'.split())\n",
        "    subprocess.call('svn export https://github.com/YoniChechik/AI_is_Math/trunk/c_07_camera_calibration/images'.split())\n",
        "\n",
        "\n"
      ],
      "outputs": [],
      "execution_count": null
    },
    {
      "cell_type": "code",
      "metadata": {},
      "source": [
        "import numpy as np\n",
        "import cv2\n",
        "import matplotlib.pyplot as plt\n",
        "import os\n",
        "\n"
      ],
      "outputs": [],
      "execution_count": null
    },
    {
      "cell_type": "code",
      "metadata": {},
      "source": [
        "square_size=2.88\n",
        "img_dir='./images/'\n",
        "pattern_size = (9, 6)\n",
        "\n",
        "figsize = (10,10)\n"
      ],
      "outputs": [],
      "execution_count": null
    },
    {
      "cell_type": "code",
      "metadata": {},
      "source": [
        "\n",
        "img_names = [img_dir+fn for fn in os.listdir(img_dir) if fn.endswith(\".jpeg\") ] \n",
        "num_images = len(img_names)\n",
        "\n",
        "pattern_points = np.zeros((np.prod(pattern_size), 3), np.float32)\n",
        "pattern_points[:, :2] = np.indices(pattern_size).T.reshape(-1, 2)\n",
        "pattern_points *= square_size\n",
        "\n",
        "obj_points = []\n",
        "img_points = []\n",
        "h, w = cv2.imread(img_names[0]).shape[:2]\n",
        "\n"
      ],
      "outputs": [],
      "execution_count": null
    },
    {
      "cell_type": "markdown",
      "metadata": {},
      "source": [
        "## Step 1: find all corners in calibration plane\n"
      ]
    },
    {
      "cell_type": "code",
      "metadata": {},
      "source": [
        "plt.figure(figsize=figsize)\n",
        "\n",
        "for i,fn in enumerate(img_names):\n",
        "    print('processing %s... ' % fn)\n",
        "    imgBGR = cv2.imread(fn)\n",
        "\n",
        "    if imgBGR is None:\n",
        "        print(\"Failed to load\", fn)\n",
        "        continue\n",
        "\n",
        "    imgRGB = cv2.cvtColor(imgBGR,cv2.COLOR_BGR2RGB)\n",
        "    img = cv2.cvtColor(imgRGB,cv2.COLOR_RGB2GRAY)\n",
        "\n",
        "    assert w == img.shape[1] and h == img.shape[0], (\"size: %d x %d ... \" % (img.shape[1], img.shape[0]))\n",
        "    found, corners = cv2.findChessboardCorners(img, pattern_size)\n",
        "    # # if you want to better improve the accuracy... cv2.findChessboardCorners already uses cv2.cornerSubPix \n",
        "    # if found:\n",
        "    #     term = (cv2.TERM_CRITERIA_EPS + cv2.TERM_CRITERIA_COUNT, 30, 0.1)\n",
        "    #     cv2.cornerSubPix(img, corners, (5, 5), (-1, -1), term)\n",
        "\n",
        "    if not found:\n",
        "        print('chessboard not found')\n",
        "        continue\n",
        "\n",
        "    if i<12:\n",
        "        img_w_corners = cv2.drawChessboardCorners(imgRGB, pattern_size, corners, found)\n",
        "        plt.subplot(4,3,i+1)\n",
        "        plt.imshow(img_w_corners)\n",
        "\n",
        "\n",
        "\n",
        "    print('           %s... OK' % fn)\n",
        "    img_points.append(corners.reshape(-1, 2))\n",
        "    obj_points.append(pattern_points)\n",
        "\n",
        "\n",
        "plt.show()\n",
        "\n"
      ],
      "outputs": [],
      "execution_count": null
    },
    {
      "cell_type": "markdown",
      "metadata": {},
      "source": [
        "## Step 2: get camera intrinsics + distortion coeffs \n",
        "also get extrinsic rotation and translation vectors per image. Rotation vector is another representation for a full R matrix \n",
        "more on it here: https://en.wikipedia.org/wiki/Rodrigues%27_rotation_formula \n"
      ]
    },
    {
      "cell_type": "code",
      "metadata": {},
      "source": [
        "# calculate camera distortion\n",
        "rms, camera_matrix, dist_coefs, _rvecs, _tvecs = cv2.calibrateCamera(obj_points, img_points, (w, h), None, None)\n",
        "\n",
        "print(\"\\nRMS:\", rms)\n",
        "print(\"camera matrix:\\n\", camera_matrix)\n",
        "print(\"distortion coefficients: \", dist_coefs.ravel())\n",
        "\n"
      ],
      "outputs": [],
      "execution_count": null
    },
    {
      "cell_type": "markdown",
      "metadata": {},
      "source": [
        "## Build undistorted images\n"
      ]
    },
    {
      "cell_type": "code",
      "metadata": {},
      "source": [
        "# undistort the image with the calibration\n",
        "plt.figure(figsize=figsize)\n",
        "for i,fn in enumerate(img_names):\n",
        "\n",
        "    imgBGR = cv2.imread(fn)\n",
        "    imgRGB = cv2.cvtColor(imgBGR,cv2.COLOR_BGR2RGB)\n",
        "\n",
        "    dst = cv2.undistort(imgRGB, camera_matrix, dist_coefs)\n",
        "\n",
        "    if i<12:\n",
        "        plt.subplot(4,3,i+1)\n",
        "        plt.imshow(dst)\n",
        "\n",
        "plt.show()\n",
        "print('Done')\n",
        "\n"
      ],
      "outputs": [],
      "execution_count": null
    },
    {
      "cell_type": "markdown",
      "metadata": {},
      "source": [
        "## Example for full projection from 3D to 2D of a cube\n"
      ]
    },
    {
      "cell_type": "code",
      "metadata": {},
      "source": [
        "objectPoints = 3*square_size*np.array([[0,0,0], [0,1,0], [1,1,0], [1,0,0],[0,0,-1],[0,1,-1],[1,1,-1],[1,0,-1]])\n",
        "\n",
        "def draw(img, imgpts):\n",
        "    imgpts = np.int32(imgpts).reshape(-1,2)\n",
        "\n",
        "    # draw ground floor in green\n",
        "    img = cv2.drawContours(img, [imgpts[:4]],-1,(0,255,0),-1)\n",
        "\n",
        "    # draw pillars in blue color\n",
        "    for i,j in zip(range(4),range(4,8)):\n",
        "        img = cv2.line(img, tuple(imgpts[i]), tuple(imgpts[j]),(255),3)\n",
        "\n",
        "    # draw top layer in red color\n",
        "    img = cv2.drawContours(img, [imgpts[4:]],-1,(0,0,255),3)\n",
        "\n",
        "    return img\n",
        "\n",
        "\n",
        "plt.figure(figsize=figsize)\n",
        "for i,fn in enumerate(img_names):\n",
        "\n",
        "    imgBGR = cv2.imread(fn)\n",
        "    imgRGB = cv2.cvtColor(imgBGR,cv2.COLOR_BGR2RGB)\n",
        "\n",
        "    dst = cv2.undistort(imgRGB, camera_matrix, dist_coefs)\n",
        "    \n",
        "    imgpts = cv2.projectPoints(\tobjectPoints, _rvecs[i], _tvecs[i], camera_matrix, dist_coefs)[0]\n",
        "    drawn_image = draw(dst, imgpts)\n",
        "\n",
        "    if i<12:\n",
        "        plt.subplot(4,3,i+1)\n",
        "        plt.imshow(drawn_image)\n",
        "\n",
        "plt.show()\n"
      ],
      "outputs": [],
      "execution_count": null
    },
    {
      "cell_type": "code",
      "metadata": {},
      "source": [],
      "outputs": [],
      "execution_count": null
    }
  ],
  "metadata": {
    "language_info": {
      "codemirror_mode": {
        "name": "ipython",
        "version": 3
      },
      "file_extension": ".py",
      "mimetype": "text/x-python",
      "name": "python",
      "nbconvert_exporter": "python",
      "pygments_lexer": "ipython3",
      "version": "3"
    }
  },
  "nbformat": 4,
  "nbformat_minor": 2
}