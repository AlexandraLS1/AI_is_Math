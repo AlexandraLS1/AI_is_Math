{
  "cells": [
    {
      "cell_type": "markdown",
      "metadata": {},
      "source": [
        "# EX4: Circle Hough transform\n",
        "In the ex. we will implement step by step circle hough transform.\n",
        "Follow the code and fill in the missing parts\n",
        "\n"
      ]
    },
    {
      "cell_type": "code",
      "metadata": {},
      "source": [
        "# to run in google colab\n",
        "import sys\n",
        "if 'google.colab' in sys.modules:\n",
        "    import subprocess \n",
        "    subprocess.call('apt-get install subversion'.split())\n",
        "    subprocess.call('svn export https://github.com/YoniChechik/AI_is_Math/trunk/c_04_curve_fitting/ex4/circles.bmp'.split())\n",
        "    subprocess.call('svn export https://github.com/YoniChechik/AI_is_Math/trunk/c_04_curve_fitting/ex4/coins.png'.split())\n",
        "\n"
      ],
      "outputs": [],
      "execution_count": null
    },
    {
      "cell_type": "code",
      "metadata": {},
      "source": [
        "from matplotlib import pyplot as plt\n",
        "import cv2\n",
        "import numpy as np\n",
        "\n",
        "figsize = (10, 10)\n",
        "\n"
      ],
      "outputs": [],
      "execution_count": null
    },
    {
      "cell_type": "markdown",
      "metadata": {},
      "source": [
        "## Import an image\n"
      ]
    },
    {
      "cell_type": "code",
      "metadata": {},
      "source": [
        "im3 = cv2.imread(\"circles.bmp\")\n",
        "im3 = cv2.cvtColor(im3, cv2.COLOR_BGR2RGB)\n",
        "\n",
        "im = cv2.cvtColor(im3, cv2.COLOR_BGR2GRAY)\n",
        "\n",
        "plt.figure(figsize=figsize)\n",
        "plt.imshow(im3, cmap='gray', vmin=0, vmax=255)\n",
        "plt.title(\"original image\")\n",
        "plt.show()\n",
        "\n",
        "\n"
      ],
      "outputs": [],
      "execution_count": null
    },
    {
      "cell_type": "markdown",
      "metadata": {},
      "source": [
        "## Find edges of an image using Canny\n"
      ]
    },
    {
      "cell_type": "code",
      "metadata": {},
      "source": [
        "# TODO: Canny edge detection of image \n",
        "mag_im = []\n",
        "\n",
        "plt.figure(figsize=figsize)\n",
        "plt.imshow(mag_im)\n",
        "plt.title(\"edge image\")\n",
        "plt.show()\n",
        "\n"
      ],
      "outputs": [],
      "execution_count": null
    },
    {
      "cell_type": "markdown",
      "metadata": {},
      "source": [
        "## Initialize accumulation matrix\n"
      ]
    },
    {
      "cell_type": "code",
      "metadata": {},
      "source": [
        "# TODO: state parameters for accumulation matrix\n",
        "# What parameters a circle accumulation matrix needs?\n",
        "# Hint: very similar to what we did in line Hough transform\n",
        "# If you need more clues, try assuming you already finished this part and continue with the ex.\n",
        "# (6-8 lines- but all are similar to each other)\n",
        "some_params_here = None\n",
        "\n",
        "# TODO: init accumulation matrix (one line)\n",
        "acc_mat = []\n",
        "\n"
      ],
      "outputs": [],
      "execution_count": null
    },
    {
      "cell_type": "markdown",
      "metadata": {},
      "source": [
        "## Fill accumulation matrix\n"
      ]
    },
    {
      "cell_type": "code",
      "metadata": {},
      "source": [
        "# get indices of edges\n",
        "edge_inds = np.argwhere(mag_im > 0)\n",
        "\n",
        "# run on all a,b and edge indices and find corresponding R\n",
        "for yx in edge_inds:\n",
        "    x = yx[1]\n",
        "    y = yx[0]\n",
        "\n",
        "    for a_ind, a0 in enumerate(a):\n",
        "        for b_ind, b0 in enumerate(b):\n",
        "\n",
        "            # TODO: find best corresponding R (~3 lines)\n",
        "            # Hint: this can be done faster if you add TH to max_r\n",
        "\n",
        "            r0 = np.round(r0/r_step)*r_step\n",
        "            r_ind = np.argmin(np.abs(r0-r))\n",
        "\n",
        "            # TODO: update accumulation matrix (one line)\n",
        "\n"
      ],
      "outputs": [],
      "execution_count": null
    },
    {
      "cell_type": "code",
      "metadata": {},
      "source": [
        "plt.figure(figsize=figsize)\n",
        "plt.imshow(np.sum(acc_mat, axis=2), extent=[b.min(), b.max(), a.max(), a.min()],aspect='auto')\n",
        "plt.xlabel('a')\n",
        "plt.ylabel('b')\n",
        "plt.title('accumulation matrix summed over r axis')\n",
        "plt.colorbar()\n",
        "plt.show()\n",
        "\n"
      ],
      "outputs": [],
      "execution_count": null
    },
    {
      "cell_type": "markdown",
      "metadata": {},
      "source": [
        "## Threshold accumulation matrix\n"
      ]
    },
    {
      "cell_type": "code",
      "metadata": {},
      "source": [
        "TH = 25\n",
        "acc_mat_th = acc_mat > TH\n",
        "\n",
        "plt.figure(figsize=figsize)\n",
        "plt.imshow(np.sum(acc_mat_th, axis=2), extent=[b.min(), b.max(), a.max(), a.min()],aspect='auto')\n",
        "plt.xlabel('a')\n",
        "plt.ylabel('b')\n",
        "plt.title('accumulation matrix TH summed over r axis')\n",
        "plt.colorbar()\n",
        "plt.show()\n"
      ],
      "outputs": [],
      "execution_count": null
    },
    {
      "cell_type": "markdown",
      "metadata": {},
      "source": [
        "## Min distance\n",
        "This is a new feature that deals with noise in the accumulation matrix.\n",
        "1. Search in the neighborhood of each above TH bin for other above TH bins\n",
        "2. compare the two and delete the less important one\n"
      ]
    },
    {
      "cell_type": "code",
      "metadata": {},
      "source": [
        "edge_inds = np.argwhere(acc_mat_th > 0)\n",
        "\n",
        "min_dist = 15\n",
        "\n",
        "acc_mat_th_dist = acc_mat_th.copy()\n",
        "# run on all above TH bins\n",
        "for i in range(edge_inds.shape[0]):\n",
        "    b0, a0, r0 = edge_inds[i]\n",
        "\n",
        "    # search in all other above TH bins\n",
        "    for j in range(i+1, edge_inds.shape[0]):\n",
        "        b1, a1, r1 = edge_inds[j]\n",
        "        \n",
        "        # if the two above are neighbors (below min_dist) - delete the less important\n",
        "        if ((r0-r1)*r_step)**2+((a0-a1)*a_step)**2+((b0-b1)*b_step)**2 < min_dist**2:\n",
        "            if acc_mat[b0, a0, r0] >= acc_mat[b1, a1, r1]:\n",
        "                #TODO: one line fill here\n",
        "                pass\n",
        "            else:\n",
        "                #TODO: one line fill here\n",
        "                pass\n"
      ],
      "outputs": [],
      "execution_count": null
    },
    {
      "cell_type": "code",
      "metadata": {},
      "source": [
        "plt.figure(figsize=figsize)\n",
        "plt.imshow(np.sum(acc_mat_th_dist, axis=2), extent=[b.min(), b.max(), a.max(), a.min()],aspect='auto')\n",
        "plt.xlabel('a')\n",
        "plt.ylabel('b')\n",
        "plt.title('accumulation matrix TH and min_dist summed over r axis')\n",
        "plt.colorbar()\n",
        "plt.show()\n",
        "\n"
      ],
      "outputs": [],
      "execution_count": null
    },
    {
      "cell_type": "markdown",
      "metadata": {},
      "source": [
        "## Plot circles found by hough\n"
      ]
    },
    {
      "cell_type": "code",
      "metadata": {},
      "source": [
        "# get indices of acc_mat_th_dist\n",
        "edge_inds = np.argwhere(acc_mat_th_dist > 0)\n",
        "\n",
        "res = im3.copy()\n",
        "for b_ind, a_ind, r_ind in edge_inds:\n",
        "    r0 = r[r_ind]\n",
        "    a0 = a[a_ind]\n",
        "    b0 = b[b_ind]\n",
        "\n",
        "    # draw the outer circle\n",
        "    res = cv2.circle(res, (a0, b0), r0, (0, 255, 0), 1)\n",
        "\n",
        "plt.figure(figsize=figsize)\n",
        "plt.imshow(res)\n",
        "plt.title(\"final result\")\n",
        "plt.show()\n"
      ],
      "outputs": [],
      "execution_count": null
    },
    {
      "cell_type": "markdown",
      "metadata": {},
      "source": [
        "## Comparison to cv2.HoughCircles\n"
      ]
    },
    {
      "cell_type": "code",
      "metadata": {},
      "source": [
        "res = im3.copy()\n",
        "\n",
        "# explanation can ve found here:\n",
        "# https://docs.opencv.org/3.4/d4/d70/tutorial_hough_circle.html\n",
        "circles = cv2.HoughCircles(im, cv2.HOUGH_GRADIENT, 1,\n",
        "                           10, param1=100, param2=8, minRadius=5, maxRadius=30)\n",
        "\n",
        "for xyr in circles[0, :]:\n",
        "    # draw the outer circle\n",
        "    res = cv2.circle(res, (xyr[0], xyr[1]), xyr[2], (0, 255, 0), 1)\n",
        "\n",
        "plt.figure(figsize=figsize)\n",
        "plt.imshow(res)\n",
        "plt.title(\"final result- cv2.HoughCircles\")\n",
        "plt.show()\n",
        "\n"
      ],
      "outputs": [],
      "execution_count": null
    },
    {
      "cell_type": "markdown",
      "metadata": {},
      "source": [
        "Now let's try something a bit more complex...\n",
        "Let's identify coins!\n",
        "in the image given below we want to detect each coin currency,\n",
        "and we'll do it with cv2.HoughCircles!\n"
      ]
    },
    {
      "cell_type": "code",
      "metadata": {},
      "source": [
        "im3 = cv2.imread(\"coins.png\")\n",
        "im3 = cv2.cvtColor(im3, cv2.COLOR_BGR2RGB)\n",
        "im = cv2.cvtColor(im3, cv2.COLOR_RGB2GRAY)\n",
        "res = im3.copy()\n",
        "\n",
        "# TODO: fill in the best values possible \n",
        "# to detect the right circle dimeter and place\n",
        "acc_ratio = None\n",
        "min_dist = None\n",
        "canny_upper_th = None\n",
        "acc_th = None\n",
        "circles = cv2.HoughCircles(im, cv2.HOUGH_GRADIENT, acc_ratio,\n",
        "                           min_dist, param1=canny_upper_th,\n",
        "                           param2=acc_th, minRadius=None, maxRadius=None)\n",
        "\n",
        "#=== font vars\n",
        "font = cv2.FONT_HERSHEY_SIMPLEX\n",
        "bottomLeftCornerOfText = (10,500)\n",
        "fontScale = 0.8\n",
        "fontColor = (0,0,0)\n",
        "lineType = 2\n",
        "\n",
        "# ==== for each detected circle\n",
        "for xyr in circles[0, :]:\n",
        "    # draw the outer circle\n",
        "    res = cv2.circle(res, (xyr[0], xyr[1]), xyr[2], (0, 255, 0), 3)\n",
        "\n",
        "    \n",
        "    # TODO: write currency type on each coin.\n",
        "    # use cv2.putText() and the font vars above.\n",
        "    # If you need, different coin sizes can be found here:\n",
        "    # https://avocadoughtoast.com/weights-sizes-us-coins/\n",
        "    pass\n",
        "\n",
        "\n",
        "plt.figure(figsize=figsize)\n",
        "plt.imshow(res)\n",
        "plt.title(\"final result- coins detection\")\n",
        "plt.show()\n",
        "\n"
      ],
      "outputs": [],
      "execution_count": null
    },
    {
      "cell_type": "code",
      "metadata": {},
      "source": [],
      "outputs": [],
      "execution_count": null
    }
  ],
  "metadata": {
    "language_info": {
      "codemirror_mode": {
        "name": "ipython",
        "version": 3
      },
      "file_extension": ".py",
      "mimetype": "text/x-python",
      "name": "python",
      "nbconvert_exporter": "python",
      "pygments_lexer": "ipython3",
      "version": "3"
    }
  },
  "nbformat": 4,
  "nbformat_minor": 2
}