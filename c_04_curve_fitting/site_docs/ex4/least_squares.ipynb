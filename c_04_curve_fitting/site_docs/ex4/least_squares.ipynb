{
  "cells": [
    {
      "cell_type": "markdown",
      "metadata": {},
      "source": [
        "# Least squares\n",
        "[![Open In Colab](https://colab.research.google.com/assets/colab-badge.svg)](https://colab.research.google.com/github/YoniChechik/AI_is_Math/blob/master/c_04_curve_fitting/site_data/least_squares.ipynb)\n",
        "## Linear LS\n",
        "Let's generate some noisy data\n"
      ]
    },
    {
      "cell_type": "code",
      "metadata": {},
      "source": [
        "import numpy as np\n",
        "import matplotlib.pyplot as plt\n",
        "fig_size = (10,10)\n",
        "\n",
        "np.random.seed(123)\n",
        "\n"
      ],
      "outputs": [],
      "execution_count": null
    },
    {
      "cell_type": "code",
      "metadata": {},
      "source": [
        "x_max = 10\n",
        "x_step = 0.01\n",
        "x = np.arange(0, x_max, x_step)\n",
        "y = 3*x-3\n",
        "\n",
        "# add noise to data\n",
        "std = 1\n",
        "y = y+np.random.normal(scale=std, size=x.shape)\n",
        "\n",
        "plt.figure(figsize=fig_size)\n",
        "plt.plot(x, y, '*')\n",
        "plt.title(\"noisy data\")\n",
        "\n"
      ],
      "outputs": [],
      "execution_count": null
    },
    {
      "cell_type": "markdown",
      "metadata": {},
      "source": [
        "### calc LS matrices and result:\n",
        "$$ Xb = y $$\n"
      ]
    },
    {
      "cell_type": "code",
      "metadata": {},
      "source": [
        "x_vec = x.reshape(-1, 1)\n",
        "X = np.concatenate((x_vec, np.ones(x_vec.shape)), axis=1)\n",
        "print(X.shape)\n",
        "y_vec = y.reshape(-1, 1)\n",
        "\n"
      ],
      "outputs": [],
      "execution_count": null
    },
    {
      "cell_type": "code",
      "metadata": {},
      "source": [
        "b = np.linalg.inv(X.T@X)@X.T@y_vec\n",
        "print(b)\n",
        "\n",
        "# plot fit results\n",
        "plt.figure(figsize=fig_size)\n",
        "plt.plot(x, y, '*')\n",
        "plt.plot(x, b[0]*x+b[1], 'r')\n",
        "plt.title(\"noisy data + best LS fit. $b^T$=\"+str(b.T))\n"
      ],
      "outputs": [],
      "execution_count": null
    },
    {
      "cell_type": "markdown",
      "metadata": {},
      "source": [
        "## Comparison to np.linalg.lstsq\n"
      ]
    },
    {
      "cell_type": "code",
      "metadata": {},
      "source": [
        "b_np = np.linalg.lstsq(X, y_vec, rcond=None)[0]\n",
        "mse = np.mean((b-b_np)**2)\n",
        "print(mse)\n"
      ],
      "outputs": [],
      "execution_count": null
    },
    {
      "cell_type": "markdown",
      "metadata": {},
      "source": [
        "## vertical dataset\n",
        "As mentioned in the lecture, LS is not goog at fitting vertical dataset.\n",
        "Let's generate data:\n"
      ]
    },
    {
      "cell_type": "code",
      "metadata": {},
      "source": [
        "data_sz = 100\n",
        "x = np.ones(data_sz)\n",
        "y = np.arange(data_sz)\n",
        "\n",
        "# add noise to data\n",
        "std = 0.1\n",
        "x = x+np.random.normal(scale=std, size=x.shape)\n",
        "\n",
        "plt.figure(figsize=fig_size)\n",
        "plt.plot(x, y, '*')\n",
        "axes = plt.gca()\n",
        "axes.set_xlim([-3, 3])\n",
        "plt.title(\"noisy vertical data\")\n",
        "\n"
      ],
      "outputs": [],
      "execution_count": null
    },
    {
      "cell_type": "markdown",
      "metadata": {},
      "source": [
        "Calc LS matrices and result\n"
      ]
    },
    {
      "cell_type": "code",
      "metadata": {},
      "source": [
        "x_vec = x.reshape(-1, 1)\n",
        "X = np.concatenate((x_vec, np.ones(x_vec.shape)), axis=1)\n",
        "y_vec = y.reshape(-1, 1)\n",
        "\n"
      ],
      "outputs": [],
      "execution_count": null
    },
    {
      "cell_type": "code",
      "metadata": {},
      "source": [
        "b = np.linalg.inv(X.T@X)@X.T@y_vec\n",
        "print(b)\n",
        "\n",
        "# plot fit results\n",
        "plt.figure(figsize=fig_size)\n",
        "plt.plot(x, y, '*')\n",
        "x_axis = np.arange(3)\n",
        "plt.plot(x_axis, b[0]*x_axis+b[1], 'r')\n",
        "plt.title(\"vertical data + best LS fit. $b^T$=\"+str(b.T))\n",
        "\n",
        "\n"
      ],
      "outputs": [],
      "execution_count": null
    },
    {
      "cell_type": "markdown",
      "metadata": {},
      "source": [
        "## TLS\n",
        "Same vertical data, now with total least squares\n"
      ]
    },
    {
      "cell_type": "code",
      "metadata": {},
      "source": [
        "X = np.concatenate((x.reshape(-1, 1)-np.mean(x),\n",
        "                    y.reshape(-1, 1)-np.mean(y)), axis=1)\n",
        "\n",
        "\n",
        "def linear_tls(X):\n",
        "    w, v = np.linalg.eig(X.T@X)\n",
        "    return v[:, np.argmin(w)]\n",
        "\n",
        "\n",
        "tls_res = linear_tls(X)\n",
        "\n",
        "a = tls_res[0]\n",
        "b = tls_res[1]\n",
        "\n",
        "c = -a*np.mean(x)-b*np.mean(y)\n",
        "x_fit = np.array([x.min(), x.max()])\n",
        "y_fit = -a/b*x_fit-c/b\n",
        "\n",
        "plt.figure(figsize=fig_size)\n",
        "plt.plot(x, y, '*')\n",
        "plt.plot(x_fit, y_fit)\n",
        "axes = plt.gca()\n",
        "axes.set_xlim([-3, 3])\n",
        "axes.set_ylim([0, 100])\n",
        "plt.title(\"noisy vertical data + linear TLS fit\")\n",
        "\n"
      ],
      "outputs": [],
      "execution_count": null
    },
    {
      "cell_type": "markdown",
      "metadata": {},
      "source": [
        "## Example for non linear LS\n"
      ]
    },
    {
      "cell_type": "code",
      "metadata": {},
      "source": [
        "x_step = 0.01\n",
        "x = np.arange(-10, 10+x_step, x_step)\n",
        "\n",
        "y = 0.5*x**2+2*x+5\n",
        "\n",
        "# add noise to data\n",
        "std = 5\n",
        "y = y+np.random.normal(scale=std, size=y.shape)\n",
        "\n",
        "plt.figure(figsize=fig_size)\n",
        "plt.plot(x, y, '*')\n",
        "plt.title(\"noisy parabola data\")\n"
      ],
      "outputs": [],
      "execution_count": null
    },
    {
      "cell_type": "code",
      "metadata": {},
      "source": [
        "# calc LS matrices\n",
        "x_vec = x.reshape(-1, 1)\n",
        "X = np.concatenate((x_vec**2, x_vec, np.ones(x_vec.shape)), axis=1)\n",
        "y_vec = y.reshape(-1, 1)\n",
        "\n",
        "b = np.linalg.lstsq(X, y_vec, rcond=None)[0]\n",
        "print(b)\n"
      ],
      "outputs": [],
      "execution_count": null
    },
    {
      "cell_type": "code",
      "metadata": {},
      "source": [
        "plt.figure(figsize=fig_size)\n",
        "plt.plot(x, y, '*')\n",
        "plt.plot(x, b[0]*x**2+b[1]*x+b[2], 'r')\n",
        "plt.title(\"data + best LS fit. $b^T$=\"+str(b.T))\n",
        "\n"
      ],
      "outputs": [],
      "execution_count": null
    },
    {
      "cell_type": "markdown",
      "metadata": {},
      "source": [
        "## Outliers\n",
        "As mentioned, LS has a problem with outliers:\n"
      ]
    },
    {
      "cell_type": "code",
      "metadata": {},
      "source": [
        "x_max = 10\n",
        "\n",
        "x = np.arange(10)\n",
        "y = 4*x+2\n",
        "\n",
        "# let's change the last data point\n",
        "y[-1] -= 20\n",
        "\n",
        "plt.figure(figsize=fig_size)\n",
        "plt.plot(x, y, '*')\n",
        "plt.title(\"data with outlier\")\n",
        "\n",
        "\n"
      ],
      "outputs": [],
      "execution_count": null
    },
    {
      "cell_type": "code",
      "metadata": {},
      "source": [
        "# calc LS matrices\n",
        "x_vec = x.reshape(-1, 1)\n",
        "X = np.concatenate((x_vec, np.ones(x_vec.shape)), axis=1)\n",
        "y_vec = y.reshape(-1, 1)\n",
        "\n"
      ],
      "outputs": [],
      "execution_count": null
    },
    {
      "cell_type": "code",
      "metadata": {},
      "source": [
        "b = np.linalg.inv(X.T@X)@X.T@y_vec\n",
        "print(b)\n",
        "\n",
        "# plot fit results\n",
        "plt.figure(figsize=fig_size)\n",
        "plt.plot(x, y, '*')\n",
        "x_axis = np.arange(x_max)\n",
        "plt.plot(x_axis, b[0]*x_axis+b[1], 'r')\n",
        "plt.title(\"data with outlier + best LS fit. $b^T$=\"+str(b.T))\n",
        "\n"
      ],
      "outputs": [],
      "execution_count": null
    },
    {
      "cell_type": "markdown",
      "metadata": {},
      "source": [
        "## RANSAC\n",
        "### arrange data\n"
      ]
    },
    {
      "cell_type": "code",
      "metadata": {},
      "source": [
        "\n",
        "x = np.arange(0, 10, 0.1)\n",
        "y = 3*x-3\n",
        "\n",
        "# add noise to data\n",
        "std = 1\n",
        "y = y+np.random.normal(scale=std, size=x.shape)\n",
        "\n",
        "# add random noise unrelated to noisy line\n",
        "noise_sz = int(x.shape[0]*1)\n",
        "x_noise = np.random.uniform(x.min(), x.max(), size=noise_sz)\n",
        "y_noise = np.random.uniform(y.min(), y.max(), size=noise_sz)\n",
        "\n",
        "plt.figure(figsize=fig_size)\n",
        "plt.plot(x, y, '*')\n",
        "plt.plot(x_noise, y_noise, '*')\n",
        "\n"
      ],
      "outputs": [],
      "execution_count": null
    },
    {
      "cell_type": "code",
      "metadata": {},
      "source": [
        "x = np.concatenate((x, x_noise))\n",
        "y = np.concatenate((y, y_noise))\n",
        "\n"
      ],
      "outputs": [],
      "execution_count": null
    },
    {
      "cell_type": "markdown",
      "metadata": {},
      "source": [
        "### Run RANSAC\n"
      ]
    },
    {
      "cell_type": "code",
      "metadata": {},
      "source": [
        "\n",
        "def basic_ransac(x,TH):\n",
        "    #====== choose 2 random inds\n",
        "    rand_indices = np.random.choice(x.shape[0], size=2)\n",
        "\n",
        "    #====== build LS data:\n",
        "    x_vec = x[rand_indices].reshape(-1, 1)\n",
        "    X = np.concatenate((x_vec, np.ones(x_vec.shape)), axis=1)\n",
        "    y_vec = y[rand_indices].reshape(-1, 1)\n",
        "\n",
        "    b = np.linalg.lstsq(X, y_vec, rcond=None)[0].flatten()\n",
        "\n",
        "    #====== build fitted line\n",
        "    line_p1 = np.array([x.min(), b[0]*x.min()+b[1]])\n",
        "    line_p2 = np.array([x.max(), b[0]*x.max()+b[1]])\n",
        "    inliers_ind = []\n",
        "    \n",
        "    #====== distance of fit line from each sample to determine inliers\n",
        "    for j in range(x.shape[0]):\n",
        "        p_j = np.array([x[j], y[j]])\n",
        "\n",
        "        # https://en.wikipedia.org/wiki/Cross_product#Geometric_meaning\n",
        "        # |a X b| = |a||b|sin(t) -> |a X b|/|b| = |a|sin(t)\n",
        "        d_j = np.linalg.norm(np.cross(line_p2-line_p1, line_p1-p_j))/np.linalg.norm(line_p2-line_p1)\n",
        "        if d_j <= TH:\n",
        "            inliers_ind.append(j)\n",
        "\n",
        "    inliers_ind = np.array(inliers_ind)\n",
        "    return b, inliers_ind\n",
        "\n"
      ],
      "outputs": [],
      "execution_count": null
    },
    {
      "cell_type": "code",
      "metadata": {},
      "source": [
        "TH = 1\n",
        "num_cycles = 10\n",
        "\n",
        "num_best_inliers = 0\n",
        "best_cycle_ind = -1\n",
        "inliers_ind_list = []\n",
        "b_list = []\n",
        "\n",
        "for i in range(num_cycles):\n",
        "    b, inliers_ind = basic_ransac(x,TH)\n",
        "    inliers_ind_list.append(inliers_ind)\n",
        "    b_list.append(b)\n",
        "\n",
        "    #====== save best model\n",
        "    if num_best_inliers < inliers_ind.shape[0]:\n",
        "        num_best_inliers = inliers_ind.shape[0]\n",
        "        best_cycle_ind = i\n"
      ],
      "outputs": [],
      "execution_count": null
    },
    {
      "cell_type": "code",
      "metadata": {},
      "source": [
        "# plot best fit\n",
        "plt.rcParams['figure.figsize'] = [20, 20]\n",
        "\n",
        "for i in range(num_cycles):\n",
        "    plt.subplot(int(num_cycles/2), 2, i+1) \n",
        "    ax = plt.gca()\n",
        "    x_axis = np.arange(11)\n",
        "    ax.plot(x_axis, b_list[i][0]*x_axis+ b_list[i][1], 'r')\n",
        "    ax.plot(x, y, '*')\n",
        "    ax.plot(x[inliers_ind_list[i]], y[inliers_ind_list[i]], '*k')\n",
        "    ax.set_xlim([0, 10])\n",
        "    ax.set_ylim([0, 25])\n",
        "    if i== best_cycle_ind:\n",
        "        plt.title(\"!!! BEST FIT !!! num inliers: \"+ str(inliers_ind_list[i].shape[0]))\n",
        "    else:\n",
        "        plt.title(\"num inliers: \"+ str(inliers_ind_list[i].shape[0]))\n"
      ],
      "outputs": [],
      "execution_count": null
    }
  ],
  "metadata": {
    "language_info": {
      "codemirror_mode": {
        "name": "ipython",
        "version": 3
      },
      "file_extension": ".py",
      "mimetype": "text/x-python",
      "name": "python",
      "nbconvert_exporter": "python",
      "pygments_lexer": "ipython3",
      "version": "3"
    }
  },
  "nbformat": 4,
  "nbformat_minor": 2
}