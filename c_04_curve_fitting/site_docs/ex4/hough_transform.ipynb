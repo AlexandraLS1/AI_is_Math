{
  "cells": [
    {
      "cell_type": "markdown",
      "metadata": {},
      "source": [
        "# Hough transform\n",
        "[![Open In Colab](https://colab.research.google.com/assets/colab-badge.svg)](https://colab.research.google.com/github/YoniChechik/AI_is_Math/blob/master/c_04_curve_fitting/site_data/hough_transform.ipynb)\n",
        "## Prep\n",
        "\n"
      ]
    },
    {
      "cell_type": "code",
      "metadata": {},
      "source": [
        "# to run in google colab\n",
        "import sys\n",
        "if 'google.colab' in sys.modules:\n",
        "    ! apt-get install subversion\n",
        "    ! svn export https://github.com/YoniChechik/AI_is_Math/trunk/c_04_curve_fitting/edge_bold.bmp\n",
        "    ! svn export https://github.com/YoniChechik/AI_is_Math/trunk/c_04_curve_fitting/building.jpg\n",
        "\n"
      ],
      "outputs": [],
      "execution_count": null
    },
    {
      "cell_type": "code",
      "metadata": {},
      "source": [
        "from matplotlib import pyplot as plt\n",
        "import cv2\n",
        "import numpy as np\n",
        "\n",
        "fig_size = (10, 10)\n"
      ],
      "outputs": [],
      "execution_count": null
    },
    {
      "cell_type": "code",
      "metadata": {},
      "source": [
        "# to run interactively with vscode\n",
        "import os\n",
        "if os.getcwd().endswith(\"AI_is_Math\"):\n",
        "    os.chdir(\"c_04_curve_fitting\")\n",
        "\n"
      ],
      "outputs": [],
      "execution_count": null
    },
    {
      "cell_type": "markdown",
      "metadata": {},
      "source": [
        "## Import an image\n"
      ]
    },
    {
      "cell_type": "code",
      "metadata": {},
      "source": [
        "im3 = cv2.imread(\"edge_bold.bmp\")\n",
        "im = cv2.cvtColor(im3, cv2.COLOR_BGR2GRAY)\n",
        "\n",
        "plt.figure(figsize=fig_size)\n",
        "plt.imshow(im, cmap='gray', vmin=0, vmax=255)\n",
        "plt.show()\n",
        "\n"
      ],
      "outputs": [],
      "execution_count": null
    },
    {
      "cell_type": "markdown",
      "metadata": {},
      "source": [
        "## Find edges of an image using Canny\n",
        "For more details about Canny edge detection, look at lecture 3\n"
      ]
    },
    {
      "cell_type": "code",
      "metadata": {},
      "source": [
        "mag_im = cv2.Canny(im, 50, 400)\n",
        "\n",
        "plt.figure(figsize=fig_size)\n",
        "plt.imshow(mag_im)\n",
        "plt.show()\n",
        "\n"
      ],
      "outputs": [],
      "execution_count": null
    },
    {
      "cell_type": "markdown",
      "metadata": {},
      "source": [
        "## Initialize accumulation matrix\n"
      ]
    },
    {
      "cell_type": "code",
      "metadata": {},
      "source": [
        "# choose R size\n",
        "r_step = 1\n",
        "rmax = np.sqrt(im.shape[0]**2+im.shape[1]**2)\n",
        "r = np.arange(-rmax, rmax, r_step)\n",
        "\n",
        "# choose theta size\n",
        "t_step = np.pi/180\n",
        "t = np.arange(0, np.pi, t_step)\n",
        "\n",
        "# accumulation matrix\n",
        "acc_mat = np.zeros((r.shape[0], t.shape[0]))\n",
        "\n"
      ],
      "outputs": [],
      "execution_count": null
    },
    {
      "cell_type": "markdown",
      "metadata": {},
      "source": [
        "## Fill accumulation matrix\n"
      ]
    },
    {
      "cell_type": "code",
      "metadata": {},
      "source": [
        "# get indices of edges\n",
        "edge_inds = np.argwhere(mag_im > 0)\n",
        "\n",
        "# run on all theta and edge indices and find corresponding R\n",
        "for t_ind, t0 in enumerate(t):\n",
        "    for yx in edge_inds:\n",
        "        x = yx[1]\n",
        "        y = yx[0]\n",
        "\n",
        "        r0 = x*np.cos(t0)+y*np.sin(t0)\n",
        "        r0 = np.round(r0/r_step)*r_step\n",
        "        r_ind = np.argmin(np.abs(r0-r))\n",
        "\n",
        "        acc_mat[r_ind, t_ind] += 1\n",
        "\n"
      ],
      "outputs": [],
      "execution_count": null
    },
    {
      "cell_type": "code",
      "metadata": {},
      "source": [
        "plt.figure(figsize=fig_size)\n",
        "plt.imshow(acc_mat, extent=[0, 180, rmax, -rmax],aspect='auto')\n",
        "plt.xlabel('theta')\n",
        "plt.ylabel('r')\n",
        "plt.title('accumulation matrix')\n",
        "plt.show()\n",
        "\n"
      ],
      "outputs": [],
      "execution_count": null
    },
    {
      "cell_type": "markdown",
      "metadata": {},
      "source": [
        "## Threshold accumulation matrix\n"
      ]
    },
    {
      "cell_type": "code",
      "metadata": {},
      "source": [
        "TH = 110\n",
        "acc_mat_th = acc_mat > TH\n",
        "\n",
        "plt.figure(figsize=fig_size)\n",
        "plt.imshow(acc_mat_th, extent=[0, 180, rmax, -rmax],aspect='auto')\n",
        "plt.xlabel('theta')\n",
        "plt.ylabel('r')\n",
        "plt.title('accumulation matrix TH')\n",
        "plt.show()\n",
        "\n"
      ],
      "outputs": [],
      "execution_count": null
    },
    {
      "cell_type": "markdown",
      "metadata": {},
      "source": [
        "## Plot lines found by hough\n"
      ]
    },
    {
      "cell_type": "code",
      "metadata": {},
      "source": [
        "# get indices of acc_mat_th\n",
        "edge_inds = np.argwhere(acc_mat_th > 0)\n",
        "\n",
        "res = im3.copy()\n",
        "for r_ind, t_ind in edge_inds:\n",
        "    rho = r[r_ind]\n",
        "    theta = t[t_ind]\n",
        "\n",
        "    print(\"(rho,theta): \" + str((rho, theta/np.pi*180)))\n",
        "\n",
        "    a = np.cos(theta)\n",
        "    b = np.sin(theta)\n",
        "    x0 = a*rho\n",
        "    y0 = b*rho\n",
        "    x1 = int(x0 + 1000*(-b))\n",
        "    y1 = int(y0 + 1000*(a))\n",
        "    x2 = int(x0 - 1000*(-b))\n",
        "    y2 = int(y0 - 1000*(a))\n",
        "\n",
        "    res = cv2.line(res, (x1, y1), (x2, y2), (0, 0, 255), thickness=1)\n",
        "\n",
        "plt.figure(figsize=fig_size)\n",
        "plt.imshow(res)\n",
        "plt.show()\n",
        "\n"
      ],
      "outputs": [],
      "execution_count": null
    },
    {
      "cell_type": "markdown",
      "metadata": {},
      "source": [
        "## Try cv2.HoughLines\n",
        "This implementation is faster since it was done in C \n"
      ]
    },
    {
      "cell_type": "code",
      "metadata": {},
      "source": [
        "lines = cv2.HoughLines(mag_im, r_step, t_step, TH)\n",
        "res = im3.copy()\n",
        "\n",
        "for r_t in lines:\n",
        "    rho = r_t[0, 0]\n",
        "    theta = r_t[0, 1]\n",
        "\n",
        "    print(\"(rho,theta): \" + str((rho, theta/np.pi*180)))\n",
        "\n",
        "    a = np.cos(theta)\n",
        "    b = np.sin(theta)\n",
        "    x0 = a*rho\n",
        "    y0 = b*rho\n",
        "    x1 = int(x0 + 1000*(-b))\n",
        "    y1 = int(y0 + 1000*(a))\n",
        "    x2 = int(x0 - 1000*(-b))\n",
        "    y2 = int(y0 - 1000*(a))\n",
        "\n",
        "    res = cv2.line(res, (x1, y1), (x2, y2), (0, 0, 255), thickness=1)\n",
        "\n",
        "plt.figure(figsize=fig_size)\n",
        "plt.imshow(res)\n",
        "plt.show()\n",
        "\n"
      ],
      "outputs": [],
      "execution_count": null
    },
    {
      "cell_type": "markdown",
      "metadata": {},
      "source": [
        "## Complete new example of a more complex image\n",
        "We can see on the bottom horizontal lines that the \"noise\" of the tree top edges is interfeering with the line detection.\n"
      ]
    },
    {
      "cell_type": "code",
      "metadata": {},
      "source": [
        "im3 = cv2.imread(\"building.jpg\")\n",
        "im3 = cv2.cvtColor(im3, cv2.COLOR_BGR2RGB)\n",
        "im = cv2.cvtColor(im3, cv2.COLOR_BGR2GRAY)\n",
        "\n",
        "plt.figure(figsize=fig_size)\n",
        "plt.imshow(im, cmap='gray', vmin=0, vmax=255)\n",
        "plt.show()\n",
        "\n",
        "mag_im = cv2.Canny(im, 50, 400)\n",
        "\n",
        "plt.figure(figsize=fig_size)\n",
        "plt.imshow(mag_im)\n",
        "plt.show()\n",
        "\n",
        "TH = 247\n",
        "lines = cv2.HoughLines(mag_im, r_step, t_step, TH)\n",
        "res = im3.copy()\n",
        "\n",
        "for r_t in lines:\n",
        "    rho = r_t[0, 0]\n",
        "    theta = r_t[0, 1]\n",
        "\n",
        "    a = np.cos(theta)\n",
        "    b = np.sin(theta)\n",
        "    x0 = a*rho\n",
        "    y0 = b*rho\n",
        "    x1 = int(x0 + 1000*(-b))\n",
        "    y1 = int(y0 + 1000*(a))\n",
        "    x2 = int(x0 - 1000*(-b))\n",
        "    y2 = int(y0 - 1000*(a))\n",
        "\n",
        "    res = cv2.line(res, (x1, y1), (x2, y2), (0, 0, 255), thickness=3)\n",
        "\n",
        "plt.figure(figsize=(20, 20))\n",
        "plt.imshow(res)\n",
        "plt.show()\n",
        "\n"
      ],
      "outputs": [],
      "execution_count": null
    },
    {
      "cell_type": "code",
      "metadata": {},
      "source": [],
      "outputs": [],
      "execution_count": null
    }
  ],
  "metadata": {
    "language_info": {
      "codemirror_mode": {
        "name": "ipython",
        "version": 3
      },
      "file_extension": ".py",
      "mimetype": "text/x-python",
      "name": "python",
      "nbconvert_exporter": "python",
      "pygments_lexer": "ipython3",
      "version": "3"
    }
  },
  "nbformat": 4,
  "nbformat_minor": 2
}