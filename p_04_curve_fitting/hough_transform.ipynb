{
  "cells": [
    {
      "cell_type": "code",
      "metadata": {},
      "source": [
        "import numpy as np\n",
        "import matplotlib.pyplot as plt\n",
        "import cv2\n"
      ],
      "outputs": [],
      "execution_count": null
    },
    {
      "cell_type": "code",
      "metadata": {},
      "source": [
        "# rect_im = np.zeros((100,100))\n",
        "# rect_im[20:40,20] = 100\n",
        "# rect_im[20:40,40] = 100\n",
        "# rect_im[20,20:40] = 100\n",
        "# rect_im[40,20:41] = 100\n",
        "\n",
        "# plt.figure()\n",
        "# plt.imshow(rect_im)\n",
        "\n",
        "# "
      ],
      "outputs": [],
      "execution_count": null
    },
    {
      "cell_type": "code",
      "metadata": {},
      "source": [
        "# plt.figure(figsize=(10,10))\n",
        "# mag_img=cv2.Canny(rect_im.astype(np.uint8),0,1)\n",
        "# plt.imshow(mag_img)\n",
        "\n",
        "\n"
      ],
      "outputs": [],
      "execution_count": null
    },
    {
      "cell_type": "code",
      "metadata": {},
      "source": [
        "im = cv2.imread(r\"C:\\Users\\jonathanch\\Google Drive\\cv_course\\cv_course_raw_git\\p_04_curve_fitting\\su.png\")\n",
        "plt.imshow(im)\n",
        "plt.show()\n"
      ],
      "outputs": [],
      "execution_count": null
    },
    {
      "cell_type": "code",
      "metadata": {},
      "source": [
        "plt.figure(figsize=(10,10))\n",
        "mag_img=cv2.Canny(im.astype(np.uint8),5,20)\n",
        "plt.imshow(mag_img)\n",
        "plt.show()\n",
        "\n",
        "rect_im = mag_img\n"
      ],
      "outputs": [],
      "execution_count": null
    },
    {
      "cell_type": "code",
      "metadata": {},
      "source": [
        "rmax = np.sqrt(im.shape[0]**2+im.shape[1]**2)\n",
        "r_step = rmax/20\n",
        "r=np.arange(-rmax,rmax,r_step)\n",
        "t_step = np.pi/36\n",
        "t=np.arange(0,np.pi,t_step)\n",
        "\n",
        "acc_mat = np.zeros((r.shape[0],t.shape[0]))\n",
        "\n",
        "edge_inds = np.argwhere(rect_im>0)\n",
        "\n",
        "xy_acc_mat = [[[]]*t.shape[0]]*r.shape[0]\n",
        "\n",
        "for t_ind, t0 in enumerate(t):\n",
        "    for yx in edge_inds:\n",
        "        x = yx[1]\n",
        "        y = yx[0]\n",
        "\n",
        "        r0 = x*np.cos(t0)+y*np.sin(t0)\n",
        "        r0 = np.round(r0/r_step)*r_step\n",
        "        r_ind = np.argmin(np.abs(r0-r))\n",
        "        # r_ind = np.argwhere(r == r0)[0,0]\n",
        "\n",
        "        acc_mat[r_ind,t_ind]+=1\n",
        "        xy_acc_mat[r_ind][t_ind].append(yx)\n",
        "\n",
        "acc_mat>acc_mat.max()*0.9\n",
        "max_inds =np.argwhere(acc_mat>0)\n",
        "\n",
        "res_im = np.zeros(rect_im.shape)\n",
        "for i,yx in enumerate(max_inds):\n",
        "    print(str(i)+\"out of\"+str(max_inds.shape[0]))\n",
        "    xy_in_max_arr = xy_acc_mat[yx[0]][yx[1]]\n",
        "    for yx0 in xy_in_max_arr:\n",
        "        res_im[yx0[0],yx0[1]] =1 \n",
        "\n",
        "plt.figure()\n",
        "plt.imshow(acc_mat)\n",
        "plt.figure()\n",
        "plt.imshow(res_im)\n",
        "plt.title(\"res\")\n",
        "# plt.xticks(t)\n",
        "plt.show()\n",
        "\n"
      ],
      "outputs": [],
      "execution_count": null
    },
    {
      "cell_type": "code",
      "metadata": {},
      "source": [],
      "outputs": [],
      "execution_count": null
    }
  ],
  "metadata": {
    "language_info": {
      "codemirror_mode": {
        "name": "ipython",
        "version": 3
      },
      "file_extension": ".py",
      "mimetype": "text/x-python",
      "name": "python",
      "nbconvert_exporter": "python",
      "pygments_lexer": "ipython3",
      "version": "3"
    }
  },
  "nbformat": 4,
  "nbformat_minor": 2
}