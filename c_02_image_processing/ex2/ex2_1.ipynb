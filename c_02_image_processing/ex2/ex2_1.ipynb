{
  "cells": [
    {
      "cell_type": "markdown",
      "metadata": {},
      "source": [
        "# EX2_1\n",
        "build dilate and erode functions\n"
      ]
    },
    {
      "cell_type": "code",
      "metadata": {},
      "source": [
        "import numpy as np\n",
        "import matplotlib.pyplot as plt\n",
        "import cv2\n",
        "\n",
        "figsize = (10, 10)\n",
        "\n"
      ],
      "outputs": [],
      "execution_count": null
    },
    {
      "cell_type": "code",
      "metadata": {},
      "source": [
        "\n",
        "img = np.zeros((50, 50))\n",
        "img[20:30, 20:30] = 1\n",
        "\n",
        "plt.figure(figsize=figsize)\n",
        "plt.imshow(img,cmap=\"gray\")\n",
        "plt.show()\n",
        "\n"
      ],
      "outputs": [],
      "execution_count": null
    },
    {
      "cell_type": "code",
      "metadata": {},
      "source": [
        "kernel = np.zeros((5,5),dtype=np.uint8)\n",
        "kernel[2,:] = 1\n",
        "kernel[:,2] = 1\n",
        "\n",
        "\n",
        "plt.figure(figsize=figsize)\n",
        "plt.imshow(dst,cmap=\"gray\")\n",
        "plt.show()\n",
        "\n"
      ],
      "outputs": [],
      "execution_count": null
    },
    {
      "cell_type": "code",
      "metadata": {},
      "source": [
        "\n"
      ],
      "outputs": [],
      "execution_count": null
    },
    {
      "cell_type": "code",
      "metadata": {},
      "source": [
        "def my_dilate(img,kernel):\n",
        "    #TODO: build dilate function without cv2.dilate\n",
        "\n",
        "plt.figure(figsize=figsize)\n",
        "plt.imshow(my_dilate(img,kernel),cmap=\"gray\")\n",
        "plt.show()\n",
        "\n"
      ],
      "outputs": [],
      "execution_count": null
    },
    {
      "cell_type": "code",
      "metadata": {},
      "source": [
        "# TODO: show that cv2.dilate and my_dilate are the same using absolute difference\n",
        "if \n",
        "    print(\"cv2.dilate & my_dilate are the same!\")\n",
        "else: \n",
        "    print(\"try again...\")\n",
        "\n"
      ],
      "outputs": [],
      "execution_count": null
    },
    {
      "cell_type": "code",
      "metadata": {},
      "source": [
        "def my_erode(img,kernel):\n",
        "    #TODO: build erode function without cv2.erode\n",
        "\n",
        "plt.figure(figsize=figsize)\n",
        "plt.imshow(my_erode(img,kernel),cmap=\"gray\")\n",
        "plt.show()\n",
        "\n"
      ],
      "outputs": [],
      "execution_count": null
    },
    {
      "cell_type": "code",
      "metadata": {},
      "source": [
        "# TODO: show that cv2.erode and my_erode are the same using absolute difference\n",
        "if \n",
        "    print(\"cv2.erode & my_erode are the same!\")\n",
        "else: \n",
        "    print(\"try again...\")\n",
        "\n"
      ],
      "outputs": [],
      "execution_count": null
    },
    {
      "cell_type": "code",
      "metadata": {},
      "source": [],
      "outputs": [],
      "execution_count": null
    }
  ],
  "metadata": {
    "language_info": {
      "codemirror_mode": {
        "name": "ipython",
        "version": 3
      },
      "file_extension": ".py",
      "mimetype": "text/x-python",
      "name": "python",
      "nbconvert_exporter": "python",
      "pygments_lexer": "ipython3",
      "version": "3"
    }
  },
  "nbformat": 4,
  "nbformat_minor": 2
}