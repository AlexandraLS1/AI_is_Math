{
  "cells": [
    {
      "cell_type": "markdown",
      "metadata": {},
      "source": [
        "#Python Workshop: Matplotlib\n",
        "\n",
        "[![Open In Colab](https://colab.research.google.com/assets/colab-badge.svg)](https://colab.research.google.com/github/YoniChechik/AI_is_Math/blob/master/c_01_basic_CV_and_python/site_data/site_data4_Matplotlib_tutorial.ipynb)\n",
        "\n",
        "<hr>\n",
        "\n",
        "Based on:\n",
        "\n",
        "This [git](https://github.com/zhiyzuo/python-tutorial) of Zhiya Zuo\n",
        "\n",
        "<hr>\n"
      ]
    },
    {
      "cell_type": "code",
      "metadata": {},
      "source": [
        "import numpy as np\n",
        "import matplotlib.pyplot as plt\n",
        "\n",
        "fig_size = (10, 10)\n",
        "\n"
      ],
      "outputs": [],
      "execution_count": null
    },
    {
      "cell_type": "markdown",
      "metadata": {},
      "source": [
        "## Introduction\n",
        "Visualization is one of the most important things of data analysis. Besides just producing ___readable___ plots, we should make an effort to improve the overall attractiveness of the plots. `matplotlib` is a powerful package for ___Python___ users. Let's start with an example.\n",
        "### Anatomy of a Figure\n",
        "Before we go deeper, let's take a look at the structure of a figure in `matplotlib`:\n",
        "\n",
        "<img width=700 src=\"https://matplotlib.org/_images/anatomy1.png\">\n",
        "\n",
        "## Line plot\n",
        "First we generate sample data\n",
        "\n"
      ]
    },
    {
      "cell_type": "code",
      "metadata": {},
      "source": [
        "X_arr = np.arange(10)\n",
        "Y_arr = 3*X_arr + 2 + np.random.random(size=X_arr.size) # linear with some noise\n",
        "print(X_arr)\n",
        "print(Y_arr)\n",
        "\n"
      ],
      "outputs": [],
      "execution_count": null
    },
    {
      "cell_type": "markdown",
      "metadata": {},
      "source": [
        "To plot a simple scatter plot, we can use `plt.scatter()` function\n",
        "\n"
      ]
    },
    {
      "cell_type": "code",
      "metadata": {},
      "source": [
        "plt.figure(figsize=fig_size)\n",
        "plt.plot(X_arr, Y_arr)\n",
        "\n"
      ],
      "outputs": [],
      "execution_count": null
    },
    {
      "cell_type": "markdown",
      "metadata": {},
      "source": [
        "## Scatter plot\n",
        "\n"
      ]
    },
    {
      "cell_type": "code",
      "metadata": {},
      "source": [
        "plt.figure(figsize=fig_size)\n",
        "# Use `+` as marker; color set as `g` (green); size proportion to Y values\n",
        "plt.scatter(X_arr, Y_arr, marker='+', c='g') \n",
        "# How about adding a line to it? Let's use `plt.plot()`\n",
        "# set line style to dashed; color as `r` (red) \n",
        "plt.plot(X_arr, Y_arr,'--r')\n",
        "# set x/y axis limits: first two are xlow and xhigh; last two are ylow and yhigh\n",
        "plt.axis([0, 10, 0, 35])\n",
        "# set x/y labels\n",
        "plt.xlabel('My X Axis')\n",
        "plt.ylabel('My Y Axis')\n",
        "# set title\n",
        "plt.title('My First Plot')\n",
        "plt.legend(['line','datapoints'])\n",
        "\n"
      ],
      "outputs": [],
      "execution_count": null
    },
    {
      "cell_type": "markdown",
      "metadata": {},
      "source": [
        "## Coding style\n",
        "Another possible way to work with figures in `matplotlib`:\n",
        "\n"
      ]
    },
    {
      "cell_type": "code",
      "metadata": {},
      "source": [
        "# `plt.subplots()` returns a figure object (which is the whole thing as shown above)\n",
        "# and `axes` that control specific plots in the figure.\n",
        "# Here our \"subplots\" layout is by default 1 row and 1 col and therefore 1 plot\n",
        "fig, ax = plt.subplots(figsize=fig_size)\n",
        "\n",
        "\n",
        "# plot should be done on the `axis`: ax\n",
        "ax.plot(X_arr, Y_arr)\n",
        "\n"
      ],
      "outputs": [],
      "execution_count": null
    },
    {
      "cell_type": "markdown",
      "metadata": {},
      "source": [
        "Applying what we did earlier:\n",
        "\n"
      ]
    },
    {
      "cell_type": "code",
      "metadata": {},
      "source": [
        "fig, ax = plt.subplots(figsize=fig_size)\n",
        "# What we just did, applying to `ax`\n",
        "ax.scatter(X_arr, Y_arr, marker='+', c='g', s=Y_arr*10) \n",
        "ax.plot(X_arr, Y_arr, linestyle='dashed', color='k')\n",
        "ax.axis([0, 10, 0, 35])\n",
        "ax.set_xlabel('My X Axis')\n",
        "ax.set_ylabel('My Y Axis')\n",
        "ax.set_title('My First Plot')\n",
        "\n"
      ],
      "outputs": [],
      "execution_count": null
    },
    {
      "cell_type": "markdown",
      "metadata": {},
      "source": [
        "This is especially useful when handling multiple plots in one figure.\n",
        "\n"
      ]
    },
    {
      "cell_type": "code",
      "metadata": {},
      "source": [
        "# Now the returned `ax_arr` would be np array with a shape a 2x3\n",
        "fig, ax_arr = plt.subplots(2,3,figsize=fig_size)\n",
        "ax_arr[0,0].plot(X_arr, Y_arr)\n",
        "ax_arr[0,1].scatter(X_arr, Y_arr)\n",
        "fig.suptitle(\"my subplots\")\n",
        "\n"
      ],
      "outputs": [],
      "execution_count": null
    },
    {
      "cell_type": "markdown",
      "metadata": {},
      "source": [
        "## Histogram\n",
        "Let's use a Gaussian distribution for illustration\n",
        "\n"
      ]
    },
    {
      "cell_type": "code",
      "metadata": {},
      "source": [
        "mu, sigma = 15, 1\n",
        "gaussian_arr = np.random.normal(mu, sigma, size=10000)\n",
        "np.mean(gaussian_arr), np.std(gaussian_arr, ddof=1)\n",
        "\n"
      ],
      "outputs": [],
      "execution_count": null
    },
    {
      "cell_type": "code",
      "metadata": {},
      "source": [
        "fig, ax = plt.subplots(figsize=fig_size)\n",
        "# `hist()` will return something but we usually do not need.\n",
        "freq_arr, bin_arr, _ = ax.hist(gaussian_arr)\n",
        "\n"
      ],
      "outputs": [],
      "execution_count": null
    },
    {
      "cell_type": "markdown",
      "metadata": {},
      "source": [
        "We can actually customize and make it prettier\n",
        "\n"
      ]
    },
    {
      "cell_type": "code",
      "metadata": {},
      "source": [
        "fig, ax = plt.subplots(figsize=fig_size)\n",
        "# Facecolor set to green; transparency (`alpha`) level: 30%\n",
        "freq_arr, bin_arr, _ = ax.hist(gaussian_arr, facecolor='g', alpha=0.3)\n",
        "# Add grid\n",
        "ax.grid()\n",
        "\n"
      ],
      "outputs": [],
      "execution_count": null
    },
    {
      "cell_type": "markdown",
      "metadata": {},
      "source": [
        "## 3D plots\n",
        "\n"
      ]
    },
    {
      "cell_type": "code",
      "metadata": {},
      "source": [
        "from mpl_toolkits.mplot3d import Axes3D\n",
        "\n",
        "\n",
        "fig = plt.figure(figsize=fig_size)\n",
        "ax = fig.gca(projection='3d') # get current axis\n",
        "theta = np.linspace(-4 * np.pi, 4 * np.pi, 100)\n",
        "z = np.linspace(-2, 2, 100)\n",
        "r = z**2 + 1\n",
        "x = r * np.sin(theta)\n",
        "y = r * np.cos(theta)\n",
        "ax.plot(x, y, z, label='parametric curve')\n",
        "ax.legend()\n",
        "\n"
      ],
      "outputs": [],
      "execution_count": null
    },
    {
      "cell_type": "markdown",
      "metadata": {},
      "source": [
        "## Note on IDE plotting\n",
        "In regular IDE plotting, after each plot one should put\n",
        "\n",
        "```\n",
        "plt.show()\n",
        "```\n",
        "to show the pop-up plot window in which one can interact with the plots (zoom, rotate, etc.), and this will stop the run of your program until closed.\n",
        "\n",
        "A way to overcome this is running:\n",
        "\n",
        "```\n",
        "plt.show(block=False)\n",
        "```\n",
        "but then when the script completes, all figures are closed...\n",
        "\n",
        "My preferred solution is running with `block=False` to all figures except the last one.\n"
      ]
    }
  ],
  "metadata": {
    "language_info": {
      "codemirror_mode": {
        "name": "ipython",
        "version": 3
      },
      "file_extension": ".py",
      "mimetype": "text/x-python",
      "name": "python",
      "nbconvert_exporter": "python",
      "pygments_lexer": "ipython3",
      "version": "3"
    }
  },
  "nbformat": 4,
  "nbformat_minor": 2
}