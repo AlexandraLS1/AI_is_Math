{
  "cells": [
    {
      "cell_type": "markdown",
      "metadata": {},
      "source": [
        "# Python Workshop: OpenCV\n",
        "[![Open In Colab](https://colab.research.google.com/assets/colab-badge.svg)](https://colab.research.google.com/github/YoniChechik/AI_is_Math/blob/master/c_01_basic_CV_and_python/site_data/site_data5_OpenCV_tutorial.ipynb)\n",
        "\n",
        "<hr>\n",
        "\n",
        "Based on:\n",
        "\n",
        "http://www.dmi.unict.it/~furnari/teaching/CV1617/lab0/\n",
        "\n",
        "<hr>\n",
        "\n",
        "## Introduction\n",
        "OpenCV (Open Source Computer Vision Library) is an open source computer vision and machine learning software library. OpenCV was built to provide a common infrastructure for computer vision applications and to accelerate the use of machine perception in the commercial products.\n",
        "[https://opencv.org/about/]\n",
        "\n",
        "<img src=\"https://upload.wikimedia.org/wikipedia/commons/3/32/OpenCV_Logo_with_text_svg_version.svg\" alt=\"opencv logo\" width=\"300\"/>\n",
        "\n",
        "## Basic usage\n"
      ]
    },
    {
      "cell_type": "code",
      "metadata": {},
      "source": [
        "import matplotlib.pyplot as plt\n",
        "import cv2 # opencv for python package\n",
        "\n",
        "fig_size = (10, 10)\n"
      ],
      "outputs": [],
      "execution_count": null
    },
    {
      "cell_type": "code",
      "metadata": {},
      "source": [
        "# to run in google colab\n",
        "import sys\n",
        "if 'google.colab' in sys.modules:\n",
        "    ! apt-get install subversion\n",
        "    ! svn export https://github.com/YoniChechik/AI_is_Math/trunk/c_01_basic_CV_and_python/Lenna.png\n",
        "    ! svn export https://github.com/YoniChechik/AI_is_Math/trunk/c_01_basic_CV_and_python/opencv_logo.png\n",
        "\n",
        "# to run interactively with vscode\n",
        "import os\n",
        "if os.getcwd().endswith(\"AI_is_Math\"):\n",
        "    os.chdir(\"c_01_basic_CV_and_python\")\n",
        "\n",
        "\n"
      ],
      "outputs": [],
      "execution_count": null
    },
    {
      "cell_type": "markdown",
      "metadata": {},
      "source": [
        "This is how to read and plot an image with opencv\n",
        "\n"
      ]
    },
    {
      "cell_type": "code",
      "metadata": {},
      "source": [
        "img = cv2.imread(\"Lenna.png\")\n",
        "\n"
      ],
      "outputs": [],
      "execution_count": null
    },
    {
      "cell_type": "code",
      "metadata": {},
      "source": [
        "plt.figure(figsize=fig_size)\n",
        "plt.imshow(img)\n",
        "\n"
      ],
      "outputs": [],
      "execution_count": null
    },
    {
      "cell_type": "markdown",
      "metadata": {},
      "source": [
        "We got a weird image colors... This is because OpenCV uses image reading convention of BGR and matplotlib uses RGB. \n",
        "\n",
        "The fix is easy:\n",
        "\n",
        "\n"
      ]
    },
    {
      "cell_type": "code",
      "metadata": {},
      "source": [
        "img=cv2.cvtColor(img,cv2.COLOR_BGR2RGB)\n",
        "plt.figure(figsize=fig_size)\n",
        "plt.imshow(img)\n",
        "\n",
        "\n"
      ],
      "outputs": [],
      "execution_count": null
    },
    {
      "cell_type": "code",
      "metadata": {},
      "source": [
        "#some image info:\n",
        "print(type(img))\n",
        "print(img.shape)\n",
        "img\n",
        "\n",
        "\n"
      ],
      "outputs": [],
      "execution_count": null
    },
    {
      "cell_type": "code",
      "metadata": {},
      "source": [
        "# show only red channel\n",
        "plt.figure(figsize=fig_size)\n",
        "plt.imshow(img[:,:,0]) \n",
        "\n",
        "\n"
      ],
      "outputs": [],
      "execution_count": null
    },
    {
      "cell_type": "code",
      "metadata": {},
      "source": [
        "# gray color-mapping\n",
        "fig, ax_arr = plt.subplots(1,2,figsize=fig_size)\n",
        "\n",
        "ax_arr[0].imshow(img[:,:,0], cmap='gray')\n",
        "ax_arr[0].set_title('Auto-adjusted pixel\\n scale intensity')\n",
        "\n",
        "ax_arr[1].imshow(img[:,:,0], cmap='gray', vmin=0, vmax=255) # 255 is the max of uint8 type number (== 2**8 -1)\n",
        "ax_arr[1].set_title('Absolute pixel\\n scale intensity')\n",
        "\n"
      ],
      "outputs": [],
      "execution_count": null
    },
    {
      "cell_type": "markdown",
      "metadata": {},
      "source": [
        "## More advanced functions\n",
        "\n"
      ]
    },
    {
      "cell_type": "code",
      "metadata": {},
      "source": [
        "# image blurring\n",
        "img_blurred=cv2.GaussianBlur(img,(15,15),7) #use a 15x15 Gaussian kernel with standard deviation 7\n",
        "plt.figure(figsize=fig_size)\n",
        "plt.imshow(img_blurred)\n",
        "\n",
        "\n"
      ],
      "outputs": [],
      "execution_count": null
    },
    {
      "cell_type": "code",
      "metadata": {},
      "source": [
        "# edge detection\n",
        "img_canny = cv2.Canny(img,180,200) # end args are the lower & upper TH of hysteresis\n",
        "plt.figure(figsize=fig_size)\n",
        "plt.imshow(img_canny,cmap='gray')\n",
        "\n",
        "\n"
      ],
      "outputs": [],
      "execution_count": null
    },
    {
      "cell_type": "code",
      "metadata": {},
      "source": [
        "# detect circles\n",
        "\n",
        "img = cv2.imread(\"opencv_logo.png\")\n",
        "img = cv2.cvtColor(img, cv2.COLOR_BGR2RGB)\n",
        "\n",
        "\n",
        "img_gray=cv2.cvtColor(img, cv2.COLOR_RGB2GRAY)\n",
        "\n",
        "circles = cv2.HoughCircles(img_gray,cv2.HOUGH_GRADIENT,0.1,50,\n",
        "                            param1=50,param2=38)\n",
        "\n",
        "for x,y,r in circles[0,:]:\n",
        "    # draw the outer circle\n",
        "    cv2.circle(img,(x,y),r,(0,0,0),2)\n",
        "    # draw the center of the circle\n",
        "    cv2.circle(img,(x,y),2,(0,0,255),3)\n",
        "\n",
        "plt.figure(figsize=fig_size)\n",
        "plt.imshow(img)\n",
        "\n",
        "\n"
      ],
      "outputs": [],
      "execution_count": null
    }
  ],
  "metadata": {
    "language_info": {
      "codemirror_mode": {
        "name": "ipython",
        "version": 3
      },
      "file_extension": ".py",
      "mimetype": "text/x-python",
      "name": "python",
      "nbconvert_exporter": "python",
      "pygments_lexer": "ipython3",
      "version": "3"
    }
  },
  "nbformat": 4,
  "nbformat_minor": 2
}