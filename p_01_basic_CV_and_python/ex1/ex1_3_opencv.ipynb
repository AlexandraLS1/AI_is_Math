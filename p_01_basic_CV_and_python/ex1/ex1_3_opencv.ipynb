{
  "cells": [
    {
      "cell_type": "markdown",
      "metadata": {},
      "source": [
        "# EX 1.3- Opencv: forest pyramid\n",
        "## Prep\n",
        "This code is just to load everything... no need to read it\n"
      ]
    },
    {
      "cell_type": "code",
      "metadata": {},
      "source": [
        "# to run in google colab\n",
        "import sys\n",
        "if 'google.colab' in sys.modules:\n",
        "    ! apt-get install subversion\n",
        "    ! svn export https://github.com/YoniChechik/AI_is_Math/trunk/p_01_basic_CV_and_python/ex1/forest.jpg\n",
        "    ! svn export https://github.com/YoniChechik/AI_is_Math/trunk/p_01_basic_CV_and_python/ex1/pyramids.png\n",
        "\n",
        "# to run interactively with vscode\n",
        "import os\n",
        "if os.getcwd().endswith(\"AI_is_Math\"):\n",
        "    os.chdir(\"p_01_basic_CV_and_python/ex1\")\n",
        "\n"
      ],
      "outputs": [],
      "execution_count": null
    },
    {
      "cell_type": "code",
      "metadata": {},
      "source": [
        "import numpy as np\n",
        "import matplotlib.pyplot as plt\n",
        "import cv2\n"
      ],
      "outputs": [],
      "execution_count": null
    },
    {
      "cell_type": "code",
      "metadata": {},
      "source": [
        "\n",
        "forest_img = cv2.imread(\"forest.jpg\")\n",
        "pyramid_img = cv2.imread(\"pyramids.png\")\n",
        "pyramid_img = cv2.cvtColor(pyramid_img,cv2.COLOR_BGR2GRAY)\n",
        "forest_img = cv2.cvtColor(forest_img,cv2.COLOR_BGR2GRAY)\n",
        "\n"
      ],
      "outputs": [],
      "execution_count": null
    },
    {
      "cell_type": "code",
      "metadata": {},
      "source": [
        "# TODO: your goal is to build the pyramids in the forest!\n",
        "#  Hints to think about:\n",
        "#  - are the images the same size?\n",
        "#  - How to mask/overlay the pixels from pyramids image to forest image\n",
        "#\n",
        "#  TODO: this section can be done in 3-5 lines of nice looking code, try not to write more then 10 lines here.\n",
        "res_im = []\n",
        "\n"
      ],
      "outputs": [],
      "execution_count": null
    },
    {
      "cell_type": "code",
      "metadata": {},
      "source": [
        "plt.figure()\n",
        "plt.imshow(res_im, cmap='gray', vmin=0, vmax=255)\n",
        "plt.show()\n"
      ],
      "outputs": [],
      "execution_count": null
    },
    {
      "cell_type": "code",
      "metadata": {},
      "source": [],
      "outputs": [],
      "execution_count": null
    }
  ],
  "metadata": {
    "language_info": {
      "codemirror_mode": {
        "name": "ipython",
        "version": 3
      },
      "file_extension": ".py",
      "mimetype": "text/x-python",
      "name": "python",
      "nbconvert_exporter": "python",
      "pygments_lexer": "ipython3",
      "version": "3"
    }
  },
  "nbformat": 4,
  "nbformat_minor": 2
}